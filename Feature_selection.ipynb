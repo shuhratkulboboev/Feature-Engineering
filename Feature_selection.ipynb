{
 "cells": [
  {
   "cell_type": "markdown",
   "id": "3097393a-171c-40e1-b6a9-3326beb7b2fb",
   "metadata": {},
   "source": [
    "# Name : Kulboboev Shukhrat\n",
    "# Neptun codes : JDN3HW\n",
    "# Homework : Feature Selection"
   ]
  },
  {
   "cell_type": "markdown",
   "id": "72d2ba8a-1486-419e-b30c-896dc9eb89fb",
   "metadata": {},
   "source": [
    "## 1.Importing dataset from UCI Machine Learning Repository"
   ]
  },
  {
   "cell_type": "code",
   "execution_count": 187,
   "id": "8a95dec9-5258-4ab4-b7fc-54723d4bf9d2",
   "metadata": {},
   "outputs": [
    {
     "name": "stdout",
     "output_type": "stream",
     "text": [
      "Requirement already satisfied: ucimlrepo in c:\\users\\hp\\anaconda3\\lib\\site-packages (0.0.7)\n",
      "Requirement already satisfied: pandas>=1.0.0 in c:\\users\\hp\\anaconda3\\lib\\site-packages (from ucimlrepo) (1.4.4)\n",
      "Requirement already satisfied: certifi>=2020.12.5 in c:\\users\\hp\\anaconda3\\lib\\site-packages (from ucimlrepo) (2024.8.30)\n",
      "Requirement already satisfied: python-dateutil>=2.8.1 in c:\\users\\hp\\anaconda3\\lib\\site-packages (from pandas>=1.0.0->ucimlrepo) (2.8.2)\n",
      "Requirement already satisfied: pytz>=2020.1 in c:\\users\\hp\\anaconda3\\lib\\site-packages (from pandas>=1.0.0->ucimlrepo) (2022.7.1)\n",
      "Requirement already satisfied: numpy>=1.18.5 in c:\\users\\hp\\anaconda3\\lib\\site-packages (from pandas>=1.0.0->ucimlrepo) (1.21.6)\n",
      "Requirement already satisfied: six>=1.5 in c:\\users\\hp\\anaconda3\\lib\\site-packages (from python-dateutil>=2.8.1->pandas>=1.0.0->ucimlrepo) (1.16.0)\n"
     ]
    }
   ],
   "source": [
    "# installing the needed library to import the dataset\n",
    "\n",
    "!pip install ucimlrepo\n"
   ]
  },
  {
   "cell_type": "code",
   "execution_count": 188,
   "id": "b4a9430d-284b-42a0-aa71-e724f11ed486",
   "metadata": {},
   "outputs": [
    {
     "name": "stdout",
     "output_type": "stream",
     "text": [
      "{'uci_id': 45, 'name': 'Heart Disease', 'repository_url': 'https://archive.ics.uci.edu/dataset/45/heart+disease', 'data_url': 'https://archive.ics.uci.edu/static/public/45/data.csv', 'abstract': '4 databases: Cleveland, Hungary, Switzerland, and the VA Long Beach', 'area': 'Health and Medicine', 'tasks': ['Classification'], 'characteristics': ['Multivariate'], 'num_instances': 303, 'num_features': 13, 'feature_types': ['Categorical', 'Integer', 'Real'], 'demographics': ['Age', 'Sex'], 'target_col': ['num'], 'index_col': None, 'has_missing_values': 'yes', 'missing_values_symbol': 'NaN', 'year_of_dataset_creation': 1989, 'last_updated': 'Fri Nov 03 2023', 'dataset_doi': '10.24432/C52P4X', 'creators': ['Andras Janosi', 'William Steinbrunn', 'Matthias Pfisterer', 'Robert Detrano'], 'intro_paper': {'ID': 231, 'type': 'NATIVE', 'title': 'International application of a new probability algorithm for the diagnosis of coronary artery disease.', 'authors': 'R. Detrano, A. Jánosi, W. Steinbrunn, M. Pfisterer, J. Schmid, S. Sandhu, K. Guppy, S. Lee, V. Froelicher', 'venue': 'American Journal of Cardiology', 'year': 1989, 'journal': None, 'DOI': None, 'URL': 'https://www.semanticscholar.org/paper/a7d714f8f87bfc41351eb5ae1e5472f0ebbe0574', 'sha': None, 'corpus': None, 'arxiv': None, 'mag': None, 'acl': None, 'pmid': '2756873', 'pmcid': None}, 'additional_info': {'summary': 'This database contains 76 attributes, but all published experiments refer to using a subset of 14 of them.  In particular, the Cleveland database is the only one that has been used by ML researchers to date.  The \"goal\" field refers to the presence of heart disease in the patient.  It is integer valued from 0 (no presence) to 4. Experiments with the Cleveland database have concentrated on simply attempting to distinguish presence (values 1,2,3,4) from absence (value 0).  \\n   \\nThe names and social security numbers of the patients were recently removed from the database, replaced with dummy values.\\n\\nOne file has been \"processed\", that one containing the Cleveland database.  All four unprocessed files also exist in this directory.\\n\\nTo see Test Costs (donated by Peter Turney), please see the folder \"Costs\" ', 'purpose': None, 'funded_by': None, 'instances_represent': None, 'recommended_data_splits': None, 'sensitive_data': None, 'preprocessing_description': None, 'variable_info': 'Only 14 attributes used:\\r\\n      1. #3  (age)       \\r\\n      2. #4  (sex)       \\r\\n      3. #9  (cp)        \\r\\n      4. #10 (trestbps)  \\r\\n      5. #12 (chol)      \\r\\n      6. #16 (fbs)       \\r\\n      7. #19 (restecg)   \\r\\n      8. #32 (thalach)   \\r\\n      9. #38 (exang)     \\r\\n      10. #40 (oldpeak)   \\r\\n      11. #41 (slope)     \\r\\n      12. #44 (ca)        \\r\\n      13. #51 (thal)      \\r\\n      14. #58 (num)       (the predicted attribute)\\r\\n\\r\\nComplete attribute documentation:\\r\\n      1 id: patient identification number\\r\\n      2 ccf: social security number (I replaced this with a dummy value of 0)\\r\\n      3 age: age in years\\r\\n      4 sex: sex (1 = male; 0 = female)\\r\\n      5 painloc: chest pain location (1 = substernal; 0 = otherwise)\\r\\n      6 painexer (1 = provoked by exertion; 0 = otherwise)\\r\\n      7 relrest (1 = relieved after rest; 0 = otherwise)\\r\\n      8 pncaden (sum of 5, 6, and 7)\\r\\n      9 cp: chest pain type\\r\\n        -- Value 1: typical angina\\r\\n        -- Value 2: atypical angina\\r\\n        -- Value 3: non-anginal pain\\r\\n        -- Value 4: asymptomatic\\r\\n     10 trestbps: resting blood pressure (in mm Hg on admission to the hospital)\\r\\n     11 htn\\r\\n     12 chol: serum cholestoral in mg/dl\\r\\n     13 smoke: I believe this is 1 = yes; 0 = no (is or is not a smoker)\\r\\n     14 cigs (cigarettes per day)\\r\\n     15 years (number of years as a smoker)\\r\\n     16 fbs: (fasting blood sugar > 120 mg/dl)  (1 = true; 0 = false)\\r\\n     17 dm (1 = history of diabetes; 0 = no such history)\\r\\n     18 famhist: family history of coronary artery disease (1 = yes; 0 = no)\\r\\n     19 restecg: resting electrocardiographic results\\r\\n        -- Value 0: normal\\r\\n        -- Value 1: having ST-T wave abnormality (T wave inversions and/or ST elevation or depression of > 0.05 mV)\\r\\n        -- Value 2: showing probable or definite left ventricular hypertrophy by Estes\\' criteria\\r\\n     20 ekgmo (month of exercise ECG reading)\\r\\n     21 ekgday(day of exercise ECG reading)\\r\\n     22 ekgyr (year of exercise ECG reading)\\r\\n     23 dig (digitalis used furing exercise ECG: 1 = yes; 0 = no)\\r\\n     24 prop (Beta blocker used during exercise ECG: 1 = yes; 0 = no)\\r\\n     25 nitr (nitrates used during exercise ECG: 1 = yes; 0 = no)\\r\\n     26 pro (calcium channel blocker used during exercise ECG: 1 = yes; 0 = no)\\r\\n     27 diuretic (diuretic used used during exercise ECG: 1 = yes; 0 = no)\\r\\n     28 proto: exercise protocol\\r\\n          1 = Bruce     \\r\\n          2 = Kottus\\r\\n          3 = McHenry\\r\\n          4 = fast Balke\\r\\n          5 = Balke\\r\\n          6 = Noughton \\r\\n          7 = bike 150 kpa min/min  (Not sure if \"kpa min/min\" is what was written!)\\r\\n          8 = bike 125 kpa min/min  \\r\\n          9 = bike 100 kpa min/min\\r\\n         10 = bike 75 kpa min/min\\r\\n         11 = bike 50 kpa min/min\\r\\n         12 = arm ergometer\\r\\n     29 thaldur: duration of exercise test in minutes\\r\\n     30 thaltime: time when ST measure depression was noted\\r\\n     31 met: mets achieved\\r\\n     32 thalach: maximum heart rate achieved\\r\\n     33 thalrest: resting heart rate\\r\\n     34 tpeakbps: peak exercise blood pressure (first of 2 parts)\\r\\n     35 tpeakbpd: peak exercise blood pressure (second of 2 parts)\\r\\n     36 dummy\\r\\n     37 trestbpd: resting blood pressure\\r\\n     38 exang: exercise induced angina (1 = yes; 0 = no)\\r\\n     39 xhypo: (1 = yes; 0 = no)\\r\\n     40 oldpeak = ST depression induced by exercise relative to rest\\r\\n     41 slope: the slope of the peak exercise ST segment\\r\\n        -- Value 1: upsloping\\r\\n        -- Value 2: flat\\r\\n        -- Value 3: downsloping\\r\\n     42 rldv5: height at rest\\r\\n     43 rldv5e: height at peak exercise\\r\\n     44 ca: number of major vessels (0-3) colored by flourosopy\\r\\n     45 restckm: irrelevant\\r\\n     46 exerckm: irrelevant\\r\\n     47 restef: rest raidonuclid (sp?) ejection fraction\\r\\n     48 restwm: rest wall (sp?) motion abnormality\\r\\n        0 = none\\r\\n        1 = mild or moderate\\r\\n        2 = moderate or severe\\r\\n        3 = akinesis or dyskmem (sp?)\\r\\n     49 exeref: exercise radinalid (sp?) ejection fraction\\r\\n     50 exerwm: exercise wall (sp?) motion \\r\\n     51 thal: 3 = normal; 6 = fixed defect; 7 = reversable defect\\r\\n     52 thalsev: not used\\r\\n     53 thalpul: not used\\r\\n     54 earlobe: not used\\r\\n     55 cmo: month of cardiac cath (sp?)  (perhaps \"call\")\\r\\n     56 cday: day of cardiac cath (sp?)\\r\\n     57 cyr: year of cardiac cath (sp?)\\r\\n     58 num: diagnosis of heart disease (angiographic disease status)\\r\\n        -- Value 0: < 50% diameter narrowing\\r\\n        -- Value 1: > 50% diameter narrowing\\r\\n        (in any major vessel: attributes 59 through 68 are vessels)\\r\\n     59 lmt\\r\\n     60 ladprox\\r\\n     61 laddist\\r\\n     62 diag\\r\\n     63 cxmain\\r\\n     64 ramus\\r\\n     65 om1\\r\\n     66 om2\\r\\n     67 rcaprox\\r\\n     68 rcadist\\r\\n     69 lvx1: not used\\r\\n     70 lvx2: not used\\r\\n     71 lvx3: not used\\r\\n     72 lvx4: not used\\r\\n     73 lvf: not used\\r\\n     74 cathef: not used\\r\\n     75 junk: not used\\r\\n     76 name: last name of patient  (I replaced this with the dummy string \"name\")', 'citation': None}}\n",
      "        name     role         type demographic  \\\n",
      "0        age  Feature      Integer         Age   \n",
      "1        sex  Feature  Categorical         Sex   \n",
      "2         cp  Feature  Categorical        None   \n",
      "3   trestbps  Feature      Integer        None   \n",
      "4       chol  Feature      Integer        None   \n",
      "5        fbs  Feature  Categorical        None   \n",
      "6    restecg  Feature  Categorical        None   \n",
      "7    thalach  Feature      Integer        None   \n",
      "8      exang  Feature  Categorical        None   \n",
      "9    oldpeak  Feature      Integer        None   \n",
      "10     slope  Feature  Categorical        None   \n",
      "11        ca  Feature      Integer        None   \n",
      "12      thal  Feature  Categorical        None   \n",
      "13       num   Target      Integer        None   \n",
      "\n",
      "                                          description  units missing_values  \n",
      "0                                                None  years             no  \n",
      "1                                                None   None             no  \n",
      "2                                                None   None             no  \n",
      "3   resting blood pressure (on admission to the ho...  mm Hg             no  \n",
      "4                                   serum cholestoral  mg/dl             no  \n",
      "5                     fasting blood sugar > 120 mg/dl   None             no  \n",
      "6                                                None   None             no  \n",
      "7                         maximum heart rate achieved   None             no  \n",
      "8                             exercise induced angina   None             no  \n",
      "9   ST depression induced by exercise relative to ...   None             no  \n",
      "10                                               None   None             no  \n",
      "11  number of major vessels (0-3) colored by flour...   None            yes  \n",
      "12                                               None   None            yes  \n",
      "13                         diagnosis of heart disease   None             no  \n"
     ]
    }
   ],
   "source": [
    "from ucimlrepo import fetch_ucirepo \n",
    "  \n",
    "# fetch dataset \n",
    "heart_disease = fetch_ucirepo(id=45) \n",
    "  \n",
    "# data (as pandas dataframes) \n",
    "X = heart_disease.data.features \n",
    "y = heart_disease.data.targets \n",
    "\n",
    "# printing metadata of dataset\n",
    "print(heart_disease.metadata) \n",
    "  \n",
    "# variable information \n",
    "print(heart_disease.variables) \n"
   ]
  },
  {
   "cell_type": "markdown",
   "id": "5cc077e6-4b74-4500-abb2-f93f86d609e5",
   "metadata": {},
   "source": [
    "## 2. Data processing"
   ]
  },
  {
   "cell_type": "code",
   "execution_count": 189,
   "id": "757a67ae-0f87-4162-a8c0-9a0a85571f09",
   "metadata": {},
   "outputs": [],
   "source": [
    "# importing needed libraries \n",
    "\n",
    "from sklearn.model_selection import train_test_split\n",
    "from sklearn.feature_selection import SelectKBest, f_classif, RFE\n",
    "from sklearn.linear_model import LogisticRegression\n",
    "from sklearn.ensemble import RandomForestClassifier\n",
    "from sklearn.metrics import accuracy_score\n",
    "import pandas as pd"
   ]
  },
  {
   "cell_type": "code",
   "execution_count": 190,
   "id": "a5f41c88-130a-441a-99e5-db58633daf5b",
   "metadata": {},
   "outputs": [
    {
     "name": "stdout",
     "output_type": "stream",
     "text": [
      "Feature Names: ['age', 'sex', 'cp', 'trestbps', 'chol', 'fbs', 'restecg', 'thalach', 'exang', 'oldpeak', 'slope', 'ca', 'thal']\n"
     ]
    }
   ],
   "source": [
    "# output feture names from dataset\n",
    "feature_names = X.columns.tolist() if hasattr(X, 'columns') else None\n",
    "print(\"Feature Names:\", feature_names)\n"
   ]
  },
  {
   "cell_type": "code",
   "execution_count": 191,
   "id": "c8c86366-0124-4b11-958a-4aca1f9d2291",
   "metadata": {},
   "outputs": [
    {
     "data": {
      "text/plain": [
       "age         0\n",
       "sex         0\n",
       "cp          0\n",
       "trestbps    0\n",
       "chol        0\n",
       "fbs         0\n",
       "restecg     0\n",
       "thalach     0\n",
       "exang       0\n",
       "oldpeak     0\n",
       "slope       0\n",
       "ca          4\n",
       "thal        2\n",
       "dtype: int64"
      ]
     },
     "execution_count": 191,
     "metadata": {},
     "output_type": "execute_result"
    }
   ],
   "source": [
    "# checking the nan  values in the dataset\n",
    "X.isnull().sum()"
   ]
  },
  {
   "cell_type": "code",
   "execution_count": 192,
   "id": "bf0535cf-b8eb-49c6-990e-595c265c3e98",
   "metadata": {},
   "outputs": [
    {
     "name": "stderr",
     "output_type": "stream",
     "text": [
      "C:\\Users\\HP\\AppData\\Local\\Temp\\ipykernel_23468\\1977171388.py:2: SettingWithCopyWarning: \n",
      "A value is trying to be set on a copy of a slice from a DataFrame.\n",
      "Try using .loc[row_indexer,col_indexer] = value instead\n",
      "\n",
      "See the caveats in the documentation: https://pandas.pydata.org/pandas-docs/stable/user_guide/indexing.html#returning-a-view-versus-a-copy\n",
      "  X['ca'] = X['ca'].fillna(X['ca'].mean())\n",
      "C:\\Users\\HP\\AppData\\Local\\Temp\\ipykernel_23468\\1977171388.py:3: SettingWithCopyWarning: \n",
      "A value is trying to be set on a copy of a slice from a DataFrame.\n",
      "Try using .loc[row_indexer,col_indexer] = value instead\n",
      "\n",
      "See the caveats in the documentation: https://pandas.pydata.org/pandas-docs/stable/user_guide/indexing.html#returning-a-view-versus-a-copy\n",
      "  X['thal'] = X['thal'].fillna(X['thal'].mean())\n"
     ]
    }
   ],
   "source": [
    "# replacing nan with mean of that column in order to keep the number of sequence\n",
    "X['ca'] = X['ca'].fillna(X['ca'].mean())\n",
    "X['thal'] = X['thal'].fillna(X['thal'].mean())"
   ]
  },
  {
   "cell_type": "code",
   "execution_count": 193,
   "id": "c4ee5505-6bc5-45df-bb18-41a1104f7eb8",
   "metadata": {},
   "outputs": [
    {
     "data": {
      "text/plain": [
       "age         0\n",
       "sex         0\n",
       "cp          0\n",
       "trestbps    0\n",
       "chol        0\n",
       "fbs         0\n",
       "restecg     0\n",
       "thalach     0\n",
       "exang       0\n",
       "oldpeak     0\n",
       "slope       0\n",
       "ca          0\n",
       "thal        0\n",
       "dtype: int64"
      ]
     },
     "execution_count": 193,
     "metadata": {},
     "output_type": "execute_result"
    }
   ],
   "source": [
    "# checking nan values after replacement\n",
    "\n",
    "X.isnull().sum()"
   ]
  },
  {
   "cell_type": "code",
   "execution_count": 194,
   "id": "94fb2b40-09ec-4a62-897b-419e5d80106b",
   "metadata": {},
   "outputs": [
    {
     "data": {
      "text/plain": [
       "num    0\n",
       "dtype: int64"
      ]
     },
     "execution_count": 194,
     "metadata": {},
     "output_type": "execute_result"
    }
   ],
   "source": [
    "# checking the nan values in target values\n",
    "y.isnull().sum()"
   ]
  },
  {
   "cell_type": "code",
   "execution_count": 195,
   "id": "a09adb12-05a3-4b17-9d78-3fe3cc747073",
   "metadata": {},
   "outputs": [
    {
     "name": "stdout",
     "output_type": "stream",
     "text": [
      "     age  sex  cp  trestbps  chol  fbs  restecg  thalach  exang  oldpeak  \\\n",
      "0     63    1   1       145   233    1        2      150      0      2.3   \n",
      "1     67    1   4       160   286    0        2      108      1      1.5   \n",
      "2     67    1   4       120   229    0        2      129      1      2.6   \n",
      "3     37    1   3       130   250    0        0      187      0      3.5   \n",
      "4     41    0   2       130   204    0        2      172      0      1.4   \n",
      "..   ...  ...  ..       ...   ...  ...      ...      ...    ...      ...   \n",
      "298   45    1   1       110   264    0        0      132      0      1.2   \n",
      "299   68    1   4       144   193    1        0      141      0      3.4   \n",
      "300   57    1   4       130   131    0        0      115      1      1.2   \n",
      "301   57    0   2       130   236    0        2      174      0      0.0   \n",
      "302   38    1   3       138   175    0        0      173      0      0.0   \n",
      "\n",
      "     slope        ca  thal  \n",
      "0        3  0.000000   6.0  \n",
      "1        2  3.000000   3.0  \n",
      "2        2  2.000000   7.0  \n",
      "3        3  0.000000   3.0  \n",
      "4        1  0.000000   3.0  \n",
      "..     ...       ...   ...  \n",
      "298      2  0.000000   7.0  \n",
      "299      2  2.000000   7.0  \n",
      "300      2  1.000000   7.0  \n",
      "301      2  1.000000   3.0  \n",
      "302      1  0.672241   3.0  \n",
      "\n",
      "[303 rows x 13 columns]\n"
     ]
    }
   ],
   "source": [
    "print(X)"
   ]
  },
  {
   "cell_type": "code",
   "execution_count": 196,
   "id": "79cdf04e-4890-4a04-a613-65f3f463e1b1",
   "metadata": {},
   "outputs": [
    {
     "name": "stdout",
     "output_type": "stream",
     "text": [
      "     num\n",
      "0      0\n",
      "1      2\n",
      "2      1\n",
      "3      0\n",
      "4      0\n",
      "..   ...\n",
      "298    1\n",
      "299    2\n",
      "300    3\n",
      "301    1\n",
      "302    0\n",
      "\n",
      "[303 rows x 1 columns]\n"
     ]
    }
   ],
   "source": [
    "print(y)"
   ]
  },
  {
   "cell_type": "code",
   "execution_count": 197,
   "id": "98dfd4a2-d721-42a0-ab23-34c41392d308",
   "metadata": {},
   "outputs": [],
   "source": [
    "# splitting data test and train set\n",
    "\n",
    "X_train, X_test, y_train, y_test = train_test_split(X, y, test_size=0.3, random_state=42)"
   ]
  },
  {
   "cell_type": "markdown",
   "id": "6575971f-3350-49a3-ae9e-fd19010ece39",
   "metadata": {},
   "source": [
    "## 3. Data visualization and filter selection and correlation"
   ]
  },
  {
   "cell_type": "code",
   "execution_count": 198,
   "id": "14a62a74-0b28-4ca7-ac28-c71ea9d46143",
   "metadata": {},
   "outputs": [
    {
     "name": "stdout",
     "output_type": "stream",
     "text": [
      "Type of y: <class 'pandas.core.frame.DataFrame'>\n",
      "Shape of y: (303, 1)\n",
      "Flattened y to 1D: (303,)\n"
     ]
    },
    {
     "data": {
      "image/png": "[encoded data removed]",
      "text/plain": [
       "<Figure size 1000x600 with 1 Axes>"
      ]
     },
     "metadata": {},
     "output_type": "display_data"
    },
    {
     "data": {
      "image/png": "[encoded data removed]",
      "text/plain": [
       "<Figure size 1200x1000 with 2 Axes>"
      ]
     },
     "metadata": {},
     "output_type": "display_data"
    }
   ],
   "source": [
    "# import needed libraries\n",
    "\n",
    "import pandas as pd\n",
    "import numpy as np\n",
    "import seaborn as sns\n",
    "import matplotlib.pyplot as plt\n",
    "\n",
    "# Debugging y\n",
    "print(\"Type of y:\", type(y))\n",
    "print(\"Shape of y:\", getattr(y, 'shape', 'N/A'))\n",
    "\n",
    "# Check if y is valid\n",
    "if y is None or len(y) == 0:\n",
    "    raise ValueError(\"y is empty or not initialized correctly!\")\n",
    "\n",
    "# Ensure y is 1D\n",
    "if hasattr(y, 'ndim') and y.ndim > 1:\n",
    "    y = np.ravel(y)\n",
    "    print(\"Flattened y to 1D:\", y.shape)\n",
    "\n",
    "# Convert to DataFrame and Series\n",
    "X_df = pd.DataFrame(X, columns=feature_names)\n",
    "y_df = pd.Series(y, name='Target')\n",
    "\n",
    "# Ensure lengths match\n",
    "assert len(X_df) == len(y_df), f\"Length mismatch! X: {len(X_df)}, y: {len(y_df)}\"\n",
    "\n",
    "# Compute correlation matrix\n",
    "correlation_matrix = X_df.corrwith(y_df).abs()\n",
    "\n",
    "# Sort and visualize\n",
    "sorted_correlation = correlation_matrix.sort_values(ascending=False)\n",
    "plt.figure(figsize=(10, 6))\n",
    "sns.barplot(x=sorted_correlation.index[:10], y=sorted_correlation.values[:10])\n",
    "plt.title(\"Top 10 Correlated Features with Target\")\n",
    "plt.ylabel(\"Absolute Correlation\")\n",
    "plt.xlabel(\"Features\")\n",
    "plt.xticks(rotation=45)\n",
    "plt.tight_layout()\n",
    "plt.show()\n",
    "\n",
    "#print(\"Correlation Method Selected Features:\", selected_features_corr)\n",
    "# Full correlation matrix\n",
    "all_features_df = pd.concat([X_df, y_df], axis=1)\n",
    "full_correlation_matrix = all_features_df.corr()\n",
    "\n",
    "# Visualize as a heatmap\n",
    "plt.figure(figsize=(12, 10))\n",
    "sns.heatmap(full_correlation_matrix, cmap='coolwarm', annot=False, fmt=\".2f\")\n",
    "plt.title(\"Feature Correlation Matrix\")\n",
    "plt.tight_layout()\n",
    "plt.show()\n",
    "\n",
    "\n",
    "#print(\"Correlation Method Selected Features:\", selected_features_corr)"
   ]
  },
  {
   "cell_type": "markdown",
   "id": "ad28e894-95e1-40cf-b6b9-4e901f5c64bd",
   "metadata": {},
   "source": [
    "### 3.1 WRAPPER METHOD - RECURSIVE ELIMINATION"
   ]
  },
  {
   "cell_type": "markdown",
   "id": "9e853468-d0da-4ada-9cf4-0c1b463a9082",
   "metadata": {},
   "source": [
    "Wrapper methods are a type of feature selection technique where subsets of features are selected and evaluated based on the performance of a predictive model"
   ]
  },
  {
   "cell_type": "code",
   "execution_count": 203,
   "id": "fde9f92e-56c4-443c-84e9-fd816adb6bd1",
   "metadata": {},
   "outputs": [
    {
     "name": "stdout",
     "output_type": "stream",
     "text": [
      "Wrapper Method Selected Features: ['cp', 'fbs', 'oldpeak', 'ca', 'thal']\n"
     ]
    }
   ],
   "source": [
    "from sklearn.feature_selection import RFE\n",
    "from sklearn.linear_model import LogisticRegression\n",
    "from sklearn.preprocessing import StandardScaler\n",
    "\n",
    "# Scale the data to improve model performance and convergence\n",
    "scaler = StandardScaler()\n",
    "X_train_scaled = scaler.fit_transform(X_train)  # Scale training data\n",
    "X_test_scaled = scaler.transform(X_test)       # Scale testing data\n",
    "\n",
    "# Logistic Regression model\n",
    "wrapper_model = LogisticRegression(max_iter=1000, random_state=42)\n",
    "\n",
    "# Recursive Feature Elimination (RFE) with Logistic Regression\n",
    "rfe_selector = RFE(estimator=wrapper_model, n_features_to_select=5, step=1)\n",
    "\n",
    "# Ensure y_train is 1D using .values.ravel()\n",
    "rfe_selector = rfe_selector.fit(X_train_scaled, y_train.values.ravel())\n",
    "\n",
    "# Transform training and testing sets based on selected features\n",
    "X_train_wrapper = rfe_selector.transform(X_train_scaled)\n",
    "X_test_wrapper = rfe_selector.transform(X_test_scaled)\n",
    "\n",
    "# Get selected feature indices and names\n",
    "wrapper_support = rfe_selector.get_support(indices=True)\n",
    "selected_features_wrapper = [feature_names[i] for i in wrapper_support]\n",
    "\n",
    "print(\"Wrapper Method Selected Features:\", selected_features_wrapper)\n",
    "\n",
    "\n"
   ]
  },
  {
   "cell_type": "markdown",
   "id": "1ddc133a-2715-4eb3-82d1-3368e182993c",
   "metadata": {},
   "source": [
    "### 3.2 LASSO"
   ]
  },
  {
   "cell_type": "markdown",
   "id": "99cc6033-335c-43d1-8acc-4127336d4b1d",
   "metadata": {},
   "source": [
    "Lasso (Least Absolute Shrinkage and \n",
    "Selection Operator) is a linear regression \n",
    "method that performs feature selection \n",
    "and regularization by adding a penalty to \n",
    "the absolute values of the coefficients of \n",
    "the regression model.\n",
    " The penalty term λ encourages the model \n",
    "to shrink less important coefficients to \n",
    "exactly zero, effectively removing those \n",
    "features. The larger the λ (the stronger the \n",
    "penalty), resulting in fewer features being \n",
    "selected"
   ]
  },
  {
   "cell_type": "code",
   "execution_count": 204,
   "id": "2c6316d4-9a34-4a25-8224-be75433ce5cc",
   "metadata": {},
   "outputs": [
    {
     "name": "stdout",
     "output_type": "stream",
     "text": [
      "Lasso Method Selected Features: ['age', 'sex', 'cp', 'trestbps', 'chol', 'fbs', 'restecg', 'thalach', 'exang', 'oldpeak', 'slope', 'ca', 'thal']\n"
     ]
    }
   ],
   "source": [
    "from sklearn.linear_model import Lasso\n",
    "from sklearn.preprocessing import StandardScaler\n",
    "\n",
    "# Standardize the dataset (Lasso is sensitive to scale)\n",
    "scaler = StandardScaler()\n",
    "X_train_scaled = scaler.fit_transform(X_train)\n",
    "X_test_scaled = scaler.transform(X_test)\n",
    "\n",
    "# Train a Lasso model with regularization\n",
    "lasso_model = Lasso(alpha=0.01, random_state=42)  # Adjust alpha for regularization strength\n",
    "lasso_model.fit(X_train_scaled, y_train)\n",
    "\n",
    "# Get feature coefficients\n",
    "lasso_coefficients = lasso_model.coef_\n",
    "\n",
    "# Select features with non-zero coefficients\n",
    "selected_features_lasso = [feature_names[i] for i, coef in enumerate(lasso_coefficients) if coef != 0]\n",
    "\n",
    "print(\"Lasso Method Selected Features:\", selected_features_lasso)\n",
    "\n",
    "# If X_train is a pandas DataFrame, select the columns by their names\n",
    "X_train_lasso = X_train[selected_features_lasso]\n",
    "X_test_lasso = X_test[selected_features_lasso]\n"
   ]
  },
  {
   "cell_type": "markdown",
   "id": "f3af10de-b2ab-46b3-ad32-bca365087718",
   "metadata": {},
   "source": [
    "## 4.Evaluation,Accuracy and Comparison"
   ]
  },
  {
   "cell_type": "code",
   "execution_count": 212,
   "id": "08ef3ed1-a631-49de-993e-45593dad3a59",
   "metadata": {},
   "outputs": [
    {
     "name": "stdout",
     "output_type": "stream",
     "text": [
      "Wrapper Recursive Method - Accuracy: 0.5714285714285714, Log Loss: 1.0947877769093532\n",
      "Embedded Lasso Method - Accuracy: 0.5714285714285714, Log Loss: 1.0643800190526136\n",
      "Original model - Accuracy: 0.5384615384615384, Log Loss: 1.141395189514962\n"
     ]
    },
    {
     "name": "stderr",
     "output_type": "stream",
     "text": [
      "C:\\Users\\HP\\anaconda3\\lib\\site-packages\\sklearn\\linear_model\\_logistic.py:444: ConvergenceWarning: lbfgs failed to converge (status=1):\n",
      "STOP: TOTAL NO. of ITERATIONS REACHED LIMIT.\n",
      "\n",
      "Increase the number of iterations (max_iter) or scale the data as shown in:\n",
      "    https://scikit-learn.org/stable/modules/preprocessing.html\n",
      "Please also refer to the documentation for alternative solver options:\n",
      "    https://scikit-learn.org/stable/modules/linear_model.html#logistic-regression\n",
      "  n_iter_i = _check_optimize_result(\n"
     ]
    }
   ],
   "source": [
    "from sklearn.metrics import accuracy_score, log_loss\n",
    "\n",
    "# 1. Build Model\n",
    "model = LogisticRegression(max_iter=4000, random_state=42)\n",
    "\n",
    "# 2. & 3. Function for training and predicting\n",
    "def evaluate_features(X_train, X_test, y_train, y_test):\n",
    "    model.fit(X_train, y_train)\n",
    "    y_pred = model.predict(X_test)\n",
    "    y_pred_proba = model.predict_proba(X_test)  # Get predicted probabilities\n",
    "    return accuracy_score(y_test, y_pred), log_loss(y_test, y_pred_proba, labels=[0, 1, 2, 3, 4])\n",
    "\n",
    "# 4. Evaluate for each method\n",
    "accuracy_wrapper, loss_wrapper = evaluate_features(X_train_wrapper, X_test_wrapper, y_train.values.ravel(), y_test.values.ravel())\n",
    "accuracy_scaled_lasslo, loss_scaled = evaluate_features(X_train_lasso, X_test_lasso, y_train.values.ravel(), y_test.values.ravel())\n",
    "accuracy_scaled_org,org_scaled = evaluate_features(X_train_scaled, X_test_scaled, y_train.values.ravel(), y_test.values.ravel())\n",
    "# Output results\n",
    "print(f\"Wrapper Recursive Method - Accuracy: {accuracy_wrapper}, Log Loss: {loss_wrapper}\")\n",
    "print(f\"Embedded Lasso Method - Accuracy: {accuracy_scaled_lasslo}, Log Loss: {loss_scaled}\")\n",
    "print(f\"Original model - Accuracy: {accuracy_scaled_org}, Log Loss: {org_scaled}\")\n",
    "\n"
   ]
  },
  {
   "cell_type": "markdown",
   "id": "44df57d1-86d5-4a41-b170-8003b2e3a358",
   "metadata": {},
   "source": [
    "## 5.Report"
   ]
  },
  {
   "cell_type": "markdown",
   "id": "c422a8e6-0271-4138-8454-789ffc034571",
   "metadata": {},
   "source": [
    "### 5.1 Dataset"
   ]
  },
  {
   "cell_type": "markdown",
   "id": "0693172d-4f6f-4110-91ef-29ba6de9a1eb",
   "metadata": {},
   "source": [
    "4 databases: Cleveland, Hungary, Switzerland, and the VA Long Beach\n",
    "\n",
    "Dataset Characteristics\n",
    "Multivariate\n",
    "\n",
    "Subject Area\n",
    "Health and Medicine\n",
    "\n",
    "Associated Tasks\n",
    "Classification\n",
    "\n",
    "Feature Type\n",
    "Categorical, Integer, Real\n",
    "\n",
    "#### Instances\n",
    "303\n",
    "\n",
    "#### Features\n",
    "13\n",
    "This database contains 76 attributes, but all published experiments refer to using a subset of 14 of them.  In particular, the Cleveland database is the only one that has been used by ML researchers to date.  The \"goal\" field refers to the presence of heart disease in the patient.  It is integer valued from 0 (no presence) to 4. Experiments with the Cleveland database have concentrated on simply attempting to distinguish presence (values 1,2,3,4) from absence (value 0).  \n",
    "   \n",
    "The names and social security numbers of the patients were recently removed from the database, replaced with dummy values.\n",
    "\n",
    "One file has been \"processed\", that one containing the Cleveland database.  All four unprocessed files also exist in this directory."
   ]
  },
  {
   "cell_type": "markdown",
   "id": "9806b48c-b556-4448-8009-a7516b6e6129",
   "metadata": {},
   "source": [
    "### 5.2 Method used in this task"
   ]
  },
  {
   "cell_type": "markdown",
   "id": "2d48b2da-92d3-4d11-86b2-0eee81a7887a",
   "metadata": {},
   "source": [
    "Two methods are used in this task :\n",
    "    *Lasso* and \n",
    "    *Wrapper Methods*\n",
    "\n"
   ]
  },
  {
   "cell_type": "markdown",
   "id": "ec44e009-6394-4b44-8de9-8970c39bbb0b",
   "metadata": {},
   "source": [
    "** Lasso ** :  Lasso (Least Absolute Shrinkage and \n",
    "Selection Operator) is a linear regression \n",
    "method that performs feature selection \n",
    "and regularization by adding a penalty to \n",
    "the absolute values of the coefficients of \n",
    "the regression model.\n",
    " The penalty term λ encourages the model \n",
    "to shrink less important coefficients to \n",
    "exactly zero, effectively removing those \n",
    "features. The larger the λ (the stronger the \n",
    "penalty), resulting in fewer features being \n",
    "selected"
   ]
  },
  {
   "cell_type": "markdown",
   "id": "ef0bf2d1-10a0-4deb-af7d-5d8b1085ecb2",
   "metadata": {},
   "source": [
    "** Wrapper method- Recursive Selection **  :  Combines backward \n",
    "elimination with feature \n",
    "ranking (RFE score).\n",
    " Iteratively removes the least \n",
    "important features and re\n",
    "evaluates the model.\n",
    " Stopping Criterion: Continue \n",
    "until a desired number of \n",
    "features is reached.\n"
   ]
  },
  {
   "cell_type": "markdown",
   "id": "b01a4953-d162-4cf7-ab0d-03a502c21ed3",
   "metadata": {},
   "source": [
    "### 5.3 Results and Comparison"
   ]
  },
  {
   "cell_type": "markdown",
   "id": "494626cc-0218-460e-a6ab-30208d85df8b",
   "metadata": {},
   "source": [
    "Here , I took three methods :"
   ]
  },
  {
   "cell_type": "markdown",
   "id": "bc5b4952-5dd4-4593-94c6-60a28c1e263b",
   "metadata": {},
   "source": [
    "Wrapper Recursive Method - Accuracy: 0.5714285714285714, Log Loss: 1.0947877769093532\n"
   ]
  },
  {
   "cell_type": "markdown",
   "id": "fe77c194-2da5-432f-94b5-45958373b860",
   "metadata": {},
   "source": [
    "Embedded Lasso Method - Accuracy: 0.5714285714285714, Log Loss: 1.0643800190526136\n"
   ]
  },
  {
   "cell_type": "markdown",
   "id": "dd59bdc2-e053-45f8-a26c-7607687ba796",
   "metadata": {},
   "source": [
    "Original model - Accuracy: 0.5384615384615384, Log Loss: 1.141395189514962"
   ]
  },
  {
   "cell_type": "markdown",
   "id": "939cea65-e1b7-4c4e-8c00-c811055133ad",
   "metadata": {},
   "source": [
    "As you can see in the result , when I used feature selection , the model accuracy is higher than compared to model that feature selection is not used"
   ]
  }
 ],
 "metadata": {
  "kernelspec": {
   "display_name": "Python 3 (ipykernel)",
   "language": "python",
   "name": "python3"
  },
  "language_info": {
   "codemirror_mode": {
    "name": "ipython",
    "version": 3
   },
   "file_extension": ".py",
   "mimetype": "text/x-python",
   "name": "python",
   "nbconvert_exporter": "python",
   "pygments_lexer": "ipython3",
   "version": "3.9.12"
  }
 },
 "nbformat": 4,
 "nbformat_minor": 5
}
